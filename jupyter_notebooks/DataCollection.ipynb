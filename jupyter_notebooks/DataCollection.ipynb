{
 "cells": [
  {
   "cell_type": "markdown",
   "id": "79c82c23",
   "metadata": {},
   "source": [
    "Data Collection Notebook"
   ]
  },
  {
   "cell_type": "markdown",
   "id": "ac48e980",
   "metadata": {},
   "source": [
    "Inputs\n",
    "\n",
    "Kaggle authentication token (JSON file)"
   ]
  },
  {
   "cell_type": "markdown",
   "id": "b7d3322a",
   "metadata": {},
   "source": [
    "Outputs\n",
    "\n"
   ]
  },
  {
   "cell_type": "markdown",
   "id": "7dc5fe38",
   "metadata": {},
   "source": [
    "Fetch data from Kaggle"
   ]
  },
  {
   "cell_type": "code",
   "execution_count": 1,
   "id": "3c8e9478",
   "metadata": {},
   "outputs": [
    {
     "name": "stdout",
     "output_type": "stream",
     "text": [
      "Requirement already satisfied: kaggle==1.5.12 in /home/cistudent/.local/lib/python3.12/site-packages (1.5.12)\n",
      "Requirement already satisfied: six>=1.10 in /home/cistudent/.pyenv/versions/3.12.1/lib/python3.12/site-packages (from kaggle==1.5.12) (1.17.0)\n",
      "Requirement already satisfied: certifi in /home/cistudent/.pyenv/versions/3.12.1/lib/python3.12/site-packages (from kaggle==1.5.12) (2024.12.14)\n",
      "Requirement already satisfied: python-dateutil in /home/cistudent/.pyenv/versions/3.12.1/lib/python3.12/site-packages (from kaggle==1.5.12) (2.9.0.post0)\n",
      "Requirement already satisfied: requests in /home/cistudent/.pyenv/versions/3.12.1/lib/python3.12/site-packages (from kaggle==1.5.12) (2.32.3)\n",
      "Requirement already satisfied: tqdm in /home/cistudent/.local/lib/python3.12/site-packages (from kaggle==1.5.12) (4.67.1)\n",
      "Requirement already satisfied: python-slugify in /home/cistudent/.local/lib/python3.12/site-packages (from kaggle==1.5.12) (8.0.4)\n",
      "Requirement already satisfied: urllib3 in /home/cistudent/.pyenv/versions/3.12.1/lib/python3.12/site-packages (from kaggle==1.5.12) (2.2.3)\n",
      "Requirement already satisfied: text-unidecode>=1.3 in /home/cistudent/.local/lib/python3.12/site-packages (from python-slugify->kaggle==1.5.12) (1.3)\n",
      "Requirement already satisfied: charset-normalizer<4,>=2 in /home/cistudent/.pyenv/versions/3.12.1/lib/python3.12/site-packages (from requests->kaggle==1.5.12) (3.4.0)\n",
      "Requirement already satisfied: idna<4,>=2.5 in /home/cistudent/.pyenv/versions/3.12.1/lib/python3.12/site-packages (from requests->kaggle==1.5.12) (3.10)\n",
      "Note: you may need to restart the kernel to use updated packages.\n"
     ]
    }
   ],
   "source": [
    "%pip install kaggle==1.5.12"
   ]
  },
  {
   "cell_type": "code",
   "execution_count": 2,
   "id": "ec403e7e",
   "metadata": {},
   "outputs": [
    {
     "data": {
      "text/plain": [
       "'/workspaces/Approval_Predict/jupyter_notebooks'"
      ]
     },
     "execution_count": 2,
     "metadata": {},
     "output_type": "execute_result"
    }
   ],
   "source": [
    "import os\n",
    "current_dir = os.getcwd()\n",
    "current_dir"
   ]
  },
  {
   "cell_type": "code",
   "execution_count": 3,
   "id": "a8a33470",
   "metadata": {},
   "outputs": [
    {
     "name": "stdout",
     "output_type": "stream",
     "text": [
      "You set a new current directory\n"
     ]
    }
   ],
   "source": [
    "os.chdir(os.path.dirname(current_dir))\n",
    "print(\"You set a new current directory\")"
   ]
  },
  {
   "cell_type": "code",
   "execution_count": 4,
   "id": "7ce06cc0",
   "metadata": {},
   "outputs": [
    {
     "data": {
      "text/plain": [
       "'/workspaces/Approval_Predict'"
      ]
     },
     "execution_count": 4,
     "metadata": {},
     "output_type": "execute_result"
    }
   ],
   "source": [
    "current_dir = os.getcwd()\n",
    "current_dir"
   ]
  },
  {
   "cell_type": "code",
   "execution_count": 5,
   "id": "5432112e",
   "metadata": {},
   "outputs": [],
   "source": [
    "import os\n",
    "os.environ['KAGGLE_CONFIG_DIR'] = os.getcwd()\n",
    "! chmod 600 kaggle.json"
   ]
  },
  {
   "cell_type": "code",
   "execution_count": 6,
   "id": "072a3bde",
   "metadata": {},
   "outputs": [
    {
     "name": "stdout",
     "output_type": "stream",
     "text": [
      "Downloading loan-approval-dataset.zip to inputs/datasets/raw\n",
      "  0%|                                               | 0.00/44.9k [00:00<?, ?B/s]\n",
      "100%|██████████████████████████████████████| 44.9k/44.9k [00:00<00:00, 3.01MB/s]\n"
     ]
    }
   ],
   "source": [
    "KaggleDatasetPath = \"anishdevedward/loan-approval-dataset/data?select=loan_approval.csv\"\n",
    "DestinationFolder = \"inputs/datasets/raw\"   \n",
    "! kaggle datasets download -d {KaggleDatasetPath} -p {DestinationFolder}"
   ]
  },
  {
   "cell_type": "code",
   "execution_count": 10,
   "id": "0c39b2f2",
   "metadata": {},
   "outputs": [
    {
     "name": "stdout",
     "output_type": "stream",
     "text": [
      "Archive:  inputs/datasets/raw/loan-approval-dataset.zip\n",
      "  inflating: inputs/datasets/raw/loan_approval.csv  \n"
     ]
    }
   ],
   "source": [
    "! unzip -o {DestinationFolder}/*.zip -d {DestinationFolder} \\\n",
    "    && rm {DestinationFolder}/*.zip \\\n",
    "    && rm kaggle.json"
   ]
  },
  {
   "cell_type": "markdown",
   "id": "fbb04271",
   "metadata": {},
   "source": [
    "The dataset has 8 columns: name,city,income,credit_score,loan_amount,years_employed,points,loan_approved"
   ]
  },
  {
   "cell_type": "code",
   "execution_count": 12,
   "id": "1888934a",
   "metadata": {},
   "outputs": [
    {
     "data": {
      "text/html": [
       "<div>\n",
       "<style scoped>\n",
       "    .dataframe tbody tr th:only-of-type {\n",
       "        vertical-align: middle;\n",
       "    }\n",
       "\n",
       "    .dataframe tbody tr th {\n",
       "        vertical-align: top;\n",
       "    }\n",
       "\n",
       "    .dataframe thead th {\n",
       "        text-align: right;\n",
       "    }\n",
       "</style>\n",
       "<table border=\"1\" class=\"dataframe\">\n",
       "  <thead>\n",
       "    <tr style=\"text-align: right;\">\n",
       "      <th></th>\n",
       "      <th>name</th>\n",
       "      <th>city</th>\n",
       "      <th>income</th>\n",
       "      <th>credit_score</th>\n",
       "      <th>loan_amount</th>\n",
       "      <th>years_employed</th>\n",
       "      <th>points</th>\n",
       "      <th>loan_approved</th>\n",
       "    </tr>\n",
       "  </thead>\n",
       "  <tbody>\n",
       "    <tr>\n",
       "      <th>0</th>\n",
       "      <td>Allison Hill</td>\n",
       "      <td>East Jill</td>\n",
       "      <td>113810</td>\n",
       "      <td>389</td>\n",
       "      <td>39698</td>\n",
       "      <td>27</td>\n",
       "      <td>50.0</td>\n",
       "      <td>False</td>\n",
       "    </tr>\n",
       "    <tr>\n",
       "      <th>1</th>\n",
       "      <td>Brandon Hall</td>\n",
       "      <td>New Jamesside</td>\n",
       "      <td>44592</td>\n",
       "      <td>729</td>\n",
       "      <td>15446</td>\n",
       "      <td>28</td>\n",
       "      <td>55.0</td>\n",
       "      <td>False</td>\n",
       "    </tr>\n",
       "    <tr>\n",
       "      <th>2</th>\n",
       "      <td>Rhonda Smith</td>\n",
       "      <td>Lake Roberto</td>\n",
       "      <td>33278</td>\n",
       "      <td>584</td>\n",
       "      <td>11189</td>\n",
       "      <td>13</td>\n",
       "      <td>45.0</td>\n",
       "      <td>False</td>\n",
       "    </tr>\n",
       "    <tr>\n",
       "      <th>3</th>\n",
       "      <td>Gabrielle Davis</td>\n",
       "      <td>West Melanieview</td>\n",
       "      <td>127196</td>\n",
       "      <td>344</td>\n",
       "      <td>48823</td>\n",
       "      <td>29</td>\n",
       "      <td>50.0</td>\n",
       "      <td>False</td>\n",
       "    </tr>\n",
       "    <tr>\n",
       "      <th>4</th>\n",
       "      <td>Valerie Gray</td>\n",
       "      <td>Mariastad</td>\n",
       "      <td>66048</td>\n",
       "      <td>496</td>\n",
       "      <td>47174</td>\n",
       "      <td>4</td>\n",
       "      <td>25.0</td>\n",
       "      <td>False</td>\n",
       "    </tr>\n",
       "  </tbody>\n",
       "</table>\n",
       "</div>"
      ],
      "text/plain": [
       "              name              city  income  credit_score  loan_amount  \\\n",
       "0     Allison Hill         East Jill  113810           389        39698   \n",
       "1     Brandon Hall     New Jamesside   44592           729        15446   \n",
       "2     Rhonda Smith      Lake Roberto   33278           584        11189   \n",
       "3  Gabrielle Davis  West Melanieview  127196           344        48823   \n",
       "4     Valerie Gray         Mariastad   66048           496        47174   \n",
       "\n",
       "   years_employed  points  loan_approved  \n",
       "0              27    50.0          False  \n",
       "1              28    55.0          False  \n",
       "2              13    45.0          False  \n",
       "3              29    50.0          False  \n",
       "4               4    25.0          False  "
      ]
     },
     "execution_count": 12,
     "metadata": {},
     "output_type": "execute_result"
    }
   ],
   "source": [
    "import pandas as pd\n",
    "df = pd.read_csv(f\"inputs/datasets/raw/loan_approval.csv\")\n",
    "df.head()"
   ]
  },
  {
   "cell_type": "code",
   "execution_count": 13,
   "id": "a4d2ed3f",
   "metadata": {},
   "outputs": [
    {
     "name": "stdout",
     "output_type": "stream",
     "text": [
      "<class 'pandas.core.frame.DataFrame'>\n",
      "RangeIndex: 2000 entries, 0 to 1999\n",
      "Data columns (total 8 columns):\n",
      " #   Column          Non-Null Count  Dtype  \n",
      "---  ------          --------------  -----  \n",
      " 0   name            2000 non-null   object \n",
      " 1   city            2000 non-null   object \n",
      " 2   income          2000 non-null   int64  \n",
      " 3   credit_score    2000 non-null   int64  \n",
      " 4   loan_amount     2000 non-null   int64  \n",
      " 5   years_employed  2000 non-null   int64  \n",
      " 6   points          2000 non-null   float64\n",
      " 7   loan_approved   2000 non-null   bool   \n",
      "dtypes: bool(1), float64(1), int64(4), object(2)\n",
      "memory usage: 111.5+ KB\n"
     ]
    }
   ],
   "source": [
    "df.info()"
   ]
  },
  {
   "cell_type": "code",
   "execution_count": 14,
   "id": "c1b34cae",
   "metadata": {},
   "outputs": [
    {
     "data": {
      "text/html": [
       "<div>\n",
       "<style scoped>\n",
       "    .dataframe tbody tr th:only-of-type {\n",
       "        vertical-align: middle;\n",
       "    }\n",
       "\n",
       "    .dataframe tbody tr th {\n",
       "        vertical-align: top;\n",
       "    }\n",
       "\n",
       "    .dataframe thead th {\n",
       "        text-align: right;\n",
       "    }\n",
       "</style>\n",
       "<table border=\"1\" class=\"dataframe\">\n",
       "  <thead>\n",
       "    <tr style=\"text-align: right;\">\n",
       "      <th></th>\n",
       "      <th>name</th>\n",
       "      <th>city</th>\n",
       "      <th>income</th>\n",
       "      <th>credit_score</th>\n",
       "      <th>loan_amount</th>\n",
       "      <th>years_employed</th>\n",
       "      <th>points</th>\n",
       "      <th>loan_approved</th>\n",
       "    </tr>\n",
       "  </thead>\n",
       "  <tbody>\n",
       "  </tbody>\n",
       "</table>\n",
       "</div>"
      ],
      "text/plain": [
       "Empty DataFrame\n",
       "Columns: [name, city, income, credit_score, loan_amount, years_employed, points, loan_approved]\n",
       "Index: []"
      ]
     },
     "execution_count": 14,
     "metadata": {},
     "output_type": "execute_result"
    }
   ],
   "source": [
    "df[df.duplicated(subset=['name'])]"
   ]
  },
  {
   "cell_type": "code",
   "execution_count": 15,
   "id": "00956b59",
   "metadata": {},
   "outputs": [
    {
     "data": {
      "text/plain": [
       "array([False,  True])"
      ]
     },
     "execution_count": 15,
     "metadata": {},
     "output_type": "execute_result"
    }
   ],
   "source": [
    "df['loan_approved'].unique()"
   ]
  },
  {
   "cell_type": "code",
   "execution_count": 19,
   "id": "73e0bdff",
   "metadata": {},
   "outputs": [
    {
     "data": {
      "text/plain": [
       "dtype('bool')"
      ]
     },
     "execution_count": 19,
     "metadata": {},
     "output_type": "execute_result"
    }
   ],
   "source": [
    "df['loan_approved'] = df['loan_approved'].replace({\"True\":1, \"False\":0})\n",
    "df['loan_approved'].dtype"
   ]
  },
  {
   "cell_type": "markdown",
   "id": "56726f99",
   "metadata": {},
   "source": [
    "Files saved below in output folder"
   ]
  },
  {
   "cell_type": "code",
   "execution_count": 22,
   "id": "0ca09b92",
   "metadata": {},
   "outputs": [
    {
     "name": "stdout",
     "output_type": "stream",
     "text": [
      "[Errno 17] File exists: 'outputs/datasets/collection'\n"
     ]
    }
   ],
   "source": [
    "import os\n",
    "try:\n",
    "  os.makedirs(name='outputs/datasets/collection')\n",
    "except Exception as e:\n",
    "  print(e)\n",
    "\n",
    "df.to_csv(f\"outputs/datasets/collection/loan_approval.csv\",index=False)"
   ]
  }
 ],
 "metadata": {
  "kernelspec": {
   "display_name": "3.12.1",
   "language": "python",
   "name": "python3"
  },
  "language_info": {
   "codemirror_mode": {
    "name": "ipython",
    "version": 3
   },
   "file_extension": ".py",
   "mimetype": "text/x-python",
   "name": "python",
   "nbconvert_exporter": "python",
   "pygments_lexer": "ipython3",
   "version": "3.12.1"
  }
 },
 "nbformat": 4,
 "nbformat_minor": 5
}
