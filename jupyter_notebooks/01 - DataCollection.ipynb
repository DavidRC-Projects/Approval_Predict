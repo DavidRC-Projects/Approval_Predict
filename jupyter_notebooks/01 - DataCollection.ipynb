{
 "cells": [
  {
   "cell_type": "markdown",
   "id": "79c82c23",
   "metadata": {},
   "source": [
    "## Data Collection Notebook for Approval Predict"
   ]
  },
  {
   "cell_type": "markdown",
   "id": "ac48e980",
   "metadata": {},
   "source": [
    "## Objectives\n",
    "\n",
    "Fetch data from Kaggle and save as raw data.\n",
    "Inspect the data and save it under outputs/datasets/collection.\n"
   ]
  },
  {
   "cell_type": "markdown",
   "id": "d232be05",
   "metadata": {},
   "source": [
    "## Inputs\n",
    "Kaggle authentication token (JSON file).\n",
    "\n",
    "## Outputs\n",
    "Generate dataset with an output of the loan_approval.csv\n",
    "\n",
    "## Additional Comments\n",
    "\n",
    "Loan Approval Dataset is a synthetic dataset with 8 columns relevant to loan approval.\n",
    "\n",
    "The data was published on Kaggle by user Anish Dev Edward. The dataset contains information used to predict whether a loan application will be approved or rejected, based on applicant and financial details.\n",
    "\n",
    "License: MIT"
   ]
  },
  {
   "cell_type": "markdown",
   "id": "a76f27c6",
   "metadata": {},
   "source": [
    "## Change working directory\n",
    "\n",
    "We want to make the parent of the current directory the new current directory and confirm this."
   ]
  },
  {
   "cell_type": "code",
   "execution_count": 3,
   "id": "ec403e7e",
   "metadata": {},
   "outputs": [
    {
     "name": "stdout",
     "output_type": "stream",
     "text": [
      "You set a new current directory\n"
     ]
    },
    {
     "data": {
      "text/plain": [
       "'/workspaces/Approval_Predict'"
      ]
     },
     "execution_count": 3,
     "metadata": {},
     "output_type": "execute_result"
    }
   ],
   "source": [
    "import os\n",
    "current_dir = os.getcwd()\n",
    "current_dir\n",
    "\n",
    "os.chdir(os.path.dirname(current_dir))\n",
    "print(\"You set a new current directory\")\n",
    "\n",
    "current_dir = os.getcwd()\n",
    "current_dir\n"
   ]
  },
  {
   "cell_type": "markdown",
   "id": "7dc5fe38",
   "metadata": {},
   "source": [
    "## Fetch data from Kaggle"
   ]
  },
  {
   "cell_type": "code",
   "execution_count": null,
   "id": "3c8e9478",
   "metadata": {},
   "outputs": [],
   "source": [
    "%pip install kaggle==1.5.12"
   ]
  },
  {
   "cell_type": "code",
   "execution_count": null,
   "id": "5432112e",
   "metadata": {},
   "outputs": [],
   "source": [
    "import os\n",
    "os.environ['KAGGLE_CONFIG_DIR'] = os.getcwd()\n",
    "! chmod 600 kaggle.json"
   ]
  },
  {
   "cell_type": "code",
   "execution_count": null,
   "id": "072a3bde",
   "metadata": {},
   "outputs": [],
   "source": [
    "KaggleDatasetPath = \"anishdevedward/loan-approval-dataset/data?select=loan_approval.csv\"\n",
    "DestinationFolder = \"inputs/datasets/raw\"   \n",
    "! kaggle datasets download -d {KaggleDatasetPath} -p {DestinationFolder}"
   ]
  },
  {
   "cell_type": "code",
   "execution_count": null,
   "id": "0c39b2f2",
   "metadata": {},
   "outputs": [],
   "source": [
    "! unzip -o {DestinationFolder}/*.zip -d {DestinationFolder} \\\n",
    "    && rm {DestinationFolder}/*.zip \\\n",
    "    && rm kaggle.json"
   ]
  },
  {
   "cell_type": "code",
   "execution_count": 4,
   "id": "cd4a69c1",
   "metadata": {},
   "outputs": [
    {
     "ename": "NameError",
     "evalue": "name 'setup_project_path' is not defined",
     "output_type": "error",
     "traceback": [
      "\u001b[0;31m---------------------------------------------------------------------------\u001b[0m",
      "\u001b[0;31mNameError\u001b[0m                                 Traceback (most recent call last)",
      "Cell \u001b[0;32mIn[4], line 3\u001b[0m\n\u001b[1;32m      1\u001b[0m \u001b[38;5;28;01mimport\u001b[39;00m \u001b[38;5;21;01mpandas\u001b[39;00m \u001b[38;5;28;01mas\u001b[39;00m \u001b[38;5;21;01mpd\u001b[39;00m\n\u001b[0;32m----> 3\u001b[0m root \u001b[38;5;241m=\u001b[39m \u001b[43msetup_project_path\u001b[49m()\n\u001b[1;32m      4\u001b[0m file_path \u001b[38;5;241m=\u001b[39m Path(root) \u001b[38;5;241m/\u001b[39m \u001b[38;5;124m\"\u001b[39m\u001b[38;5;124moutputs\u001b[39m\u001b[38;5;124m\"\u001b[39m \u001b[38;5;241m/\u001b[39m \u001b[38;5;124m\"\u001b[39m\u001b[38;5;124mdatasets\u001b[39m\u001b[38;5;124m\"\u001b[39m \u001b[38;5;241m/\u001b[39m \u001b[38;5;124m\"\u001b[39m\u001b[38;5;124mcollection\u001b[39m\u001b[38;5;124m\"\u001b[39m \u001b[38;5;241m/\u001b[39m \u001b[38;5;124m\"\u001b[39m\u001b[38;5;124mloan_approval.csv\u001b[39m\u001b[38;5;124m\"\u001b[39m\n\u001b[1;32m      6\u001b[0m \u001b[38;5;28;01mif\u001b[39;00m \u001b[38;5;129;01mnot\u001b[39;00m file_path\u001b[38;5;241m.\u001b[39mexists():\n",
      "\u001b[0;31mNameError\u001b[0m: name 'setup_project_path' is not defined"
     ]
    }
   ],
   "source": [
    "import pandas as pd\n",
    "\n",
    "root = setup_project_path()\n",
    "file_path = Path(root) / \"outputs\" / \"datasets\" / \"collection\" / \"loan_approval.csv\"\n",
    "\n",
    "if not file_path.exists():\n",
    "    raise FileNotFoundError(f\"Dataset not found at: {file_path}\")\n",
    "\n",
    "df = pd.read_csv(file_path).drop(['name'], axis=1)\n",
    "df.head(3)"
   ]
  },
  {
   "cell_type": "markdown",
   "id": "fbb04271",
   "metadata": {},
   "source": [
    "## Load and Inspect Kaggle data"
   ]
  },
  {
   "cell_type": "code",
   "execution_count": null,
   "id": "1888934a",
   "metadata": {},
   "outputs": [],
   "source": [
    "import pandas as pd\n",
    "df = pd.read_csv(f\"inputs/datasets/raw/loan_approval.csv\")\n",
    "df.head()"
   ]
  },
  {
   "cell_type": "markdown",
   "id": "26410911",
   "metadata": {},
   "source": [
    "DataFrame Summary"
   ]
  },
  {
   "cell_type": "code",
   "execution_count": null,
   "id": "a4d2ed3f",
   "metadata": {},
   "outputs": [],
   "source": [
    "df.info()"
   ]
  },
  {
   "cell_type": "markdown",
   "id": "cce2add4",
   "metadata": {},
   "source": [
    "Chekcing for duplicates for the variable 'name'. This did not find any duplicates."
   ]
  },
  {
   "cell_type": "code",
   "execution_count": null,
   "id": "c1b34cae",
   "metadata": {},
   "outputs": [],
   "source": [
    "df[df.duplicated(subset=['name'])]"
   ]
  },
  {
   "cell_type": "markdown",
   "id": "98f809a2",
   "metadata": {},
   "source": [
    "loan_approved is a boolean variable: True or False. Therefore, we will replace it to an integer as the ML model requires numeric variables."
   ]
  },
  {
   "cell_type": "code",
   "execution_count": null,
   "id": "00956b59",
   "metadata": {},
   "outputs": [],
   "source": [
    "df['loan_approved'].unique()"
   ]
  },
  {
   "cell_type": "markdown",
   "id": "ea9ebd09",
   "metadata": {},
   "source": [
    "Checked loan_approved data type."
   ]
  },
  {
   "cell_type": "code",
   "execution_count": null,
   "id": "73e0bdff",
   "metadata": {},
   "outputs": [],
   "source": [
    "df['loan_approved'] = df['loan_approved'].replace({\"True\":1, \"False\":0})\n",
    "df['loan_approved'].dtype\n",
    "df['loan_approved'] = df['loan_approved'].astype(int)\n",
    "df['loan_approved'].dtype"
   ]
  },
  {
   "cell_type": "markdown",
   "id": "56726f99",
   "metadata": {},
   "source": [
    "Files saved below in output folder"
   ]
  },
  {
   "cell_type": "code",
   "execution_count": null,
   "id": "0ca09b92",
   "metadata": {},
   "outputs": [],
   "source": [
    "import os\n",
    "try:\n",
    "  os.makedirs(name='outputs/datasets/collection')\n",
    "except Exception as e:\n",
    "  print(e)\n",
    "\n",
    "df.to_csv(f\"outputs/datasets/collection/loan_approval.csv\",index=False)"
   ]
  }
 ],
 "metadata": {
  "kernelspec": {
   "display_name": "3.12.1",
   "language": "python",
   "name": "python3"
  },
  "language_info": {
   "codemirror_mode": {
    "name": "ipython",
    "version": 3
   },
   "file_extension": ".py",
   "mimetype": "text/x-python",
   "name": "python",
   "nbconvert_exporter": "python",
   "pygments_lexer": "ipython3",
   "version": "3.12.1"
  }
 },
 "nbformat": 4,
 "nbformat_minor": 5
}
