{
 "cells": [
  {
   "cell_type": "markdown",
   "id": "79c82c23",
   "metadata": {},
   "source": [
    "# Data Collection Notebook for Approval Predict"
   ]
  },
  {
   "cell_type": "markdown",
   "id": "ac48e980",
   "metadata": {},
   "source": [
    "## Objectives\n",
    "\n",
    "* Fetch data from Kaggle and save as raw data.\n",
    "* Inspect the data and save it under outputs/datasets/collection.\n"
   ]
  },
  {
   "cell_type": "markdown",
   "id": "d232be05",
   "metadata": {},
   "source": [
    "## Inputs\n",
    "* Kaggle authentication token (JSON file).\n",
    "\n",
    "## Outputs\n",
    "* Generate dataset with an output of the loan_approval.csv\n",
    "\n",
    "## Additional Comments\n",
    "\n",
    "* Loan Approval Dataset is a synthetic dataset with 8 columns relevant to loan approval.\n",
    "\n",
    "* The data was published on Kaggle by user Anish Dev Edward. The dataset contains information used to predict whether a loan application will be approved or rejected, based on applicant and financial details.\n",
    "\n",
    "* License: MIT"
   ]
  },
  {
   "cell_type": "markdown",
   "id": "a76f27c6",
   "metadata": {},
   "source": [
    "## Change working directory\n",
    "\n",
    "We want to make the parent of the current directory the new current directory and confirm this."
   ]
  },
  {
   "cell_type": "code",
   "execution_count": 1,
   "id": "ec403e7e",
   "metadata": {},
   "outputs": [
    {
     "name": "stdout",
     "output_type": "stream",
     "text": [
      "You set a new current directory\n"
     ]
    },
    {
     "data": {
      "text/plain": [
       "'/workspaces/Approval_Predict'"
      ]
     },
     "execution_count": 1,
     "metadata": {},
     "output_type": "execute_result"
    }
   ],
   "source": [
    "import os\n",
    "current_dir = os.getcwd()\n",
    "current_dir\n",
    "\n",
    "os.chdir(os.path.dirname(current_dir))\n",
    "print(\"You set a new current directory\")\n",
    "\n",
    "current_dir = os.getcwd()\n",
    "current_dir\n"
   ]
  },
  {
   "cell_type": "markdown",
   "id": "7dc5fe38",
   "metadata": {},
   "source": [
    "## Fetch data from Kaggle"
   ]
  },
  {
   "cell_type": "code",
   "execution_count": null,
   "id": "3c8e9478",
   "metadata": {},
   "outputs": [],
   "source": [
    "%pip install kaggle==1.5.12"
   ]
  },
  {
   "cell_type": "code",
   "execution_count": 2,
   "id": "5432112e",
   "metadata": {},
   "outputs": [],
   "source": [
    "import os\n",
    "os.environ['KAGGLE_CONFIG_DIR'] = os.getcwd()\n",
    "! chmod 600 kaggle.json"
   ]
  },
  {
   "cell_type": "code",
   "execution_count": 3,
   "id": "072a3bde",
   "metadata": {},
   "outputs": [
    {
     "name": "stdout",
     "output_type": "stream",
     "text": [
      "Downloading loan-approval-dataset.zip to inputs/datasets/raw\n",
      "  0%|                                               | 0.00/44.9k [00:00<?, ?B/s]\n",
      "100%|██████████████████████████████████████| 44.9k/44.9k [00:00<00:00, 6.16MB/s]\n"
     ]
    }
   ],
   "source": [
    "KaggleDatasetPath = \"anishdevedward/loan-approval-dataset/data?select=loan_approval.csv\"\n",
    "DestinationFolder = \"inputs/datasets/raw\"   \n",
    "! kaggle datasets download -d {KaggleDatasetPath} -p {DestinationFolder}"
   ]
  },
  {
   "cell_type": "code",
   "execution_count": 4,
   "id": "0c39b2f2",
   "metadata": {},
   "outputs": [
    {
     "name": "stdout",
     "output_type": "stream",
     "text": [
      "Archive:  inputs/datasets/raw/loan-approval-dataset.zip\n",
      "  inflating: inputs/datasets/raw/loan_approval.csv  \n"
     ]
    }
   ],
   "source": [
    "! unzip -o {DestinationFolder}/*.zip -d {DestinationFolder} \\\n",
    "    && rm {DestinationFolder}/*.zip \\\n",
    "    && rm kaggle.json"
   ]
  },
  {
   "cell_type": "code",
   "execution_count": 9,
   "id": "cd4a69c1",
   "metadata": {},
   "outputs": [
    {
     "data": {
      "text/html": [
       "<div>\n",
       "<style scoped>\n",
       "    .dataframe tbody tr th:only-of-type {\n",
       "        vertical-align: middle;\n",
       "    }\n",
       "\n",
       "    .dataframe tbody tr th {\n",
       "        vertical-align: top;\n",
       "    }\n",
       "\n",
       "    .dataframe thead th {\n",
       "        text-align: right;\n",
       "    }\n",
       "</style>\n",
       "<table border=\"1\" class=\"dataframe\">\n",
       "  <thead>\n",
       "    <tr style=\"text-align: right;\">\n",
       "      <th></th>\n",
       "      <th>city</th>\n",
       "      <th>income</th>\n",
       "      <th>credit_score</th>\n",
       "      <th>loan_amount</th>\n",
       "      <th>years_employed</th>\n",
       "      <th>points</th>\n",
       "      <th>loan_approved</th>\n",
       "    </tr>\n",
       "  </thead>\n",
       "  <tbody>\n",
       "    <tr>\n",
       "      <th>0</th>\n",
       "      <td>East Jill</td>\n",
       "      <td>113810</td>\n",
       "      <td>389</td>\n",
       "      <td>39698</td>\n",
       "      <td>27</td>\n",
       "      <td>50.0</td>\n",
       "      <td>0</td>\n",
       "    </tr>\n",
       "    <tr>\n",
       "      <th>1</th>\n",
       "      <td>New Jamesside</td>\n",
       "      <td>44592</td>\n",
       "      <td>729</td>\n",
       "      <td>15446</td>\n",
       "      <td>28</td>\n",
       "      <td>55.0</td>\n",
       "      <td>0</td>\n",
       "    </tr>\n",
       "    <tr>\n",
       "      <th>2</th>\n",
       "      <td>Lake Roberto</td>\n",
       "      <td>33278</td>\n",
       "      <td>584</td>\n",
       "      <td>11189</td>\n",
       "      <td>13</td>\n",
       "      <td>45.0</td>\n",
       "      <td>0</td>\n",
       "    </tr>\n",
       "  </tbody>\n",
       "</table>\n",
       "</div>"
      ],
      "text/plain": [
       "            city  income  credit_score  loan_amount  years_employed  points  \\\n",
       "0      East Jill  113810           389        39698              27    50.0   \n",
       "1  New Jamesside   44592           729        15446              28    55.0   \n",
       "2   Lake Roberto   33278           584        11189              13    45.0   \n",
       "\n",
       "   loan_approved  \n",
       "0              0  \n",
       "1              0  \n",
       "2              0  "
      ]
     },
     "execution_count": 9,
     "metadata": {},
     "output_type": "execute_result"
    }
   ],
   "source": [
    "import pandas as pd\n",
    "from pathlib import Path\n",
    "\n",
    "root = current_dir\n",
    "file_path = Path(root) / \"outputs\" / \"datasets\" / \"collection\" / \"loan_approval.csv\"\n",
    "\n",
    "if not file_path.exists():\n",
    "    raise FileNotFoundError(f\"Dataset not found at: {file_path}\")\n",
    "\n",
    "df = pd.read_csv(file_path).drop(['name'], axis=1)\n",
    "df.head(3)"
   ]
  },
  {
   "cell_type": "markdown",
   "id": "fbb04271",
   "metadata": {},
   "source": [
    "## Load and Inspect Kaggle data"
   ]
  },
  {
   "cell_type": "code",
   "execution_count": 10,
   "id": "1888934a",
   "metadata": {},
   "outputs": [
    {
     "data": {
      "text/html": [
       "<div>\n",
       "<style scoped>\n",
       "    .dataframe tbody tr th:only-of-type {\n",
       "        vertical-align: middle;\n",
       "    }\n",
       "\n",
       "    .dataframe tbody tr th {\n",
       "        vertical-align: top;\n",
       "    }\n",
       "\n",
       "    .dataframe thead th {\n",
       "        text-align: right;\n",
       "    }\n",
       "</style>\n",
       "<table border=\"1\" class=\"dataframe\">\n",
       "  <thead>\n",
       "    <tr style=\"text-align: right;\">\n",
       "      <th></th>\n",
       "      <th>name</th>\n",
       "      <th>city</th>\n",
       "      <th>income</th>\n",
       "      <th>credit_score</th>\n",
       "      <th>loan_amount</th>\n",
       "      <th>years_employed</th>\n",
       "      <th>points</th>\n",
       "      <th>loan_approved</th>\n",
       "    </tr>\n",
       "  </thead>\n",
       "  <tbody>\n",
       "    <tr>\n",
       "      <th>0</th>\n",
       "      <td>Allison Hill</td>\n",
       "      <td>East Jill</td>\n",
       "      <td>113810</td>\n",
       "      <td>389</td>\n",
       "      <td>39698</td>\n",
       "      <td>27</td>\n",
       "      <td>50.0</td>\n",
       "      <td>False</td>\n",
       "    </tr>\n",
       "    <tr>\n",
       "      <th>1</th>\n",
       "      <td>Brandon Hall</td>\n",
       "      <td>New Jamesside</td>\n",
       "      <td>44592</td>\n",
       "      <td>729</td>\n",
       "      <td>15446</td>\n",
       "      <td>28</td>\n",
       "      <td>55.0</td>\n",
       "      <td>False</td>\n",
       "    </tr>\n",
       "    <tr>\n",
       "      <th>2</th>\n",
       "      <td>Rhonda Smith</td>\n",
       "      <td>Lake Roberto</td>\n",
       "      <td>33278</td>\n",
       "      <td>584</td>\n",
       "      <td>11189</td>\n",
       "      <td>13</td>\n",
       "      <td>45.0</td>\n",
       "      <td>False</td>\n",
       "    </tr>\n",
       "    <tr>\n",
       "      <th>3</th>\n",
       "      <td>Gabrielle Davis</td>\n",
       "      <td>West Melanieview</td>\n",
       "      <td>127196</td>\n",
       "      <td>344</td>\n",
       "      <td>48823</td>\n",
       "      <td>29</td>\n",
       "      <td>50.0</td>\n",
       "      <td>False</td>\n",
       "    </tr>\n",
       "    <tr>\n",
       "      <th>4</th>\n",
       "      <td>Valerie Gray</td>\n",
       "      <td>Mariastad</td>\n",
       "      <td>66048</td>\n",
       "      <td>496</td>\n",
       "      <td>47174</td>\n",
       "      <td>4</td>\n",
       "      <td>25.0</td>\n",
       "      <td>False</td>\n",
       "    </tr>\n",
       "  </tbody>\n",
       "</table>\n",
       "</div>"
      ],
      "text/plain": [
       "              name              city  income  credit_score  loan_amount  \\\n",
       "0     Allison Hill         East Jill  113810           389        39698   \n",
       "1     Brandon Hall     New Jamesside   44592           729        15446   \n",
       "2     Rhonda Smith      Lake Roberto   33278           584        11189   \n",
       "3  Gabrielle Davis  West Melanieview  127196           344        48823   \n",
       "4     Valerie Gray         Mariastad   66048           496        47174   \n",
       "\n",
       "   years_employed  points  loan_approved  \n",
       "0              27    50.0          False  \n",
       "1              28    55.0          False  \n",
       "2              13    45.0          False  \n",
       "3              29    50.0          False  \n",
       "4               4    25.0          False  "
      ]
     },
     "execution_count": 10,
     "metadata": {},
     "output_type": "execute_result"
    }
   ],
   "source": [
    "import pandas as pd\n",
    "df = pd.read_csv(f\"inputs/datasets/raw/loan_approval.csv\")\n",
    "df.head()"
   ]
  },
  {
   "cell_type": "markdown",
   "id": "e4e5dfe8",
   "metadata": {},
   "source": [
    "Identify the size of the dataset."
   ]
  },
  {
   "cell_type": "code",
   "execution_count": 11,
   "id": "dcf8b096",
   "metadata": {},
   "outputs": [
    {
     "data": {
      "text/plain": [
       "(2000, 8)"
      ]
     },
     "execution_count": 11,
     "metadata": {},
     "output_type": "execute_result"
    }
   ],
   "source": [
    "df.shape"
   ]
  },
  {
   "cell_type": "markdown",
   "id": "26410911",
   "metadata": {},
   "source": [
    "## DataFrame Summary\n",
    "\n",
    "Summary of information"
   ]
  },
  {
   "cell_type": "code",
   "execution_count": 12,
   "id": "a4d2ed3f",
   "metadata": {},
   "outputs": [
    {
     "name": "stdout",
     "output_type": "stream",
     "text": [
      "<class 'pandas.core.frame.DataFrame'>\n",
      "RangeIndex: 2000 entries, 0 to 1999\n",
      "Data columns (total 8 columns):\n",
      " #   Column          Non-Null Count  Dtype  \n",
      "---  ------          --------------  -----  \n",
      " 0   name            2000 non-null   object \n",
      " 1   city            2000 non-null   object \n",
      " 2   income          2000 non-null   int64  \n",
      " 3   credit_score    2000 non-null   int64  \n",
      " 4   loan_amount     2000 non-null   int64  \n",
      " 5   years_employed  2000 non-null   int64  \n",
      " 6   points          2000 non-null   float64\n",
      " 7   loan_approved   2000 non-null   bool   \n",
      "dtypes: bool(1), float64(1), int64(4), object(2)\n",
      "memory usage: 111.5+ KB\n"
     ]
    }
   ],
   "source": [
    "df.info()"
   ]
  },
  {
   "cell_type": "markdown",
   "id": "cce2add4",
   "metadata": {},
   "source": [
    "Chekcing for duplicates for the variable 'name'. This did not find any duplicates."
   ]
  },
  {
   "cell_type": "code",
   "execution_count": 20,
   "id": "c1b34cae",
   "metadata": {},
   "outputs": [
    {
     "data": {
      "text/html": [
       "<div>\n",
       "<style scoped>\n",
       "    .dataframe tbody tr th:only-of-type {\n",
       "        vertical-align: middle;\n",
       "    }\n",
       "\n",
       "    .dataframe tbody tr th {\n",
       "        vertical-align: top;\n",
       "    }\n",
       "\n",
       "    .dataframe thead th {\n",
       "        text-align: right;\n",
       "    }\n",
       "</style>\n",
       "<table border=\"1\" class=\"dataframe\">\n",
       "  <thead>\n",
       "    <tr style=\"text-align: right;\">\n",
       "      <th></th>\n",
       "      <th>name</th>\n",
       "      <th>city</th>\n",
       "      <th>income</th>\n",
       "      <th>credit_score</th>\n",
       "      <th>loan_amount</th>\n",
       "      <th>years_employed</th>\n",
       "      <th>points</th>\n",
       "      <th>loan_approved</th>\n",
       "    </tr>\n",
       "  </thead>\n",
       "  <tbody>\n",
       "  </tbody>\n",
       "</table>\n",
       "</div>"
      ],
      "text/plain": [
       "Empty DataFrame\n",
       "Columns: [name, city, income, credit_score, loan_amount, years_employed, points, loan_approved]\n",
       "Index: []"
      ]
     },
     "execution_count": 20,
     "metadata": {},
     "output_type": "execute_result"
    }
   ],
   "source": [
    "df[df.duplicated(subset=['name'])]"
   ]
  },
  {
   "cell_type": "markdown",
   "id": "98f809a2",
   "metadata": {},
   "source": [
    "loan_approved is a boolean variable: True or False. Therefore, we will replace it to an integer as the ML model requires numeric variables."
   ]
  },
  {
   "cell_type": "code",
   "execution_count": 21,
   "id": "00956b59",
   "metadata": {},
   "outputs": [
    {
     "data": {
      "text/plain": [
       "array([False,  True])"
      ]
     },
     "execution_count": 21,
     "metadata": {},
     "output_type": "execute_result"
    }
   ],
   "source": [
    "df['loan_approved'].unique()"
   ]
  },
  {
   "cell_type": "markdown",
   "id": "ea9ebd09",
   "metadata": {},
   "source": [
    "Checked loan_approved data type."
   ]
  },
  {
   "cell_type": "code",
   "execution_count": 22,
   "id": "73e0bdff",
   "metadata": {},
   "outputs": [
    {
     "data": {
      "text/plain": [
       "dtype('int64')"
      ]
     },
     "execution_count": 22,
     "metadata": {},
     "output_type": "execute_result"
    }
   ],
   "source": [
    "df['loan_approved'] = df['loan_approved'].replace({\"True\":1, \"False\":0})\n",
    "df['loan_approved'].dtype\n",
    "df['loan_approved'] = df['loan_approved'].astype(int)\n",
    "df['loan_approved'].dtype"
   ]
  },
  {
   "cell_type": "markdown",
   "id": "59d490c5",
   "metadata": {},
   "source": [
    "View missing data"
   ]
  },
  {
   "cell_type": "code",
   "execution_count": 17,
   "id": "b8ba298f",
   "metadata": {},
   "outputs": [
    {
     "data": {
      "text/plain": [
       "name              0\n",
       "city              0\n",
       "income            0\n",
       "credit_score      0\n",
       "loan_amount       0\n",
       "years_employed    0\n",
       "points            0\n",
       "loan_approved     0\n",
       "dtype: int64"
      ]
     },
     "execution_count": 17,
     "metadata": {},
     "output_type": "execute_result"
    }
   ],
   "source": [
    "df.isna().sum()"
   ]
  },
  {
   "cell_type": "markdown",
   "id": "7b4e8b01",
   "metadata": {},
   "source": [
    "Summary of all numeric columns in dataset. Provides statistics for each value and identify any possible outliners."
   ]
  },
  {
   "cell_type": "code",
   "execution_count": 18,
   "id": "cd22fe88",
   "metadata": {},
   "outputs": [
    {
     "data": {
      "text/html": [
       "<div>\n",
       "<style scoped>\n",
       "    .dataframe tbody tr th:only-of-type {\n",
       "        vertical-align: middle;\n",
       "    }\n",
       "\n",
       "    .dataframe tbody tr th {\n",
       "        vertical-align: top;\n",
       "    }\n",
       "\n",
       "    .dataframe thead th {\n",
       "        text-align: right;\n",
       "    }\n",
       "</style>\n",
       "<table border=\"1\" class=\"dataframe\">\n",
       "  <thead>\n",
       "    <tr style=\"text-align: right;\">\n",
       "      <th></th>\n",
       "      <th>income</th>\n",
       "      <th>credit_score</th>\n",
       "      <th>loan_amount</th>\n",
       "      <th>years_employed</th>\n",
       "      <th>points</th>\n",
       "    </tr>\n",
       "  </thead>\n",
       "  <tbody>\n",
       "    <tr>\n",
       "      <th>count</th>\n",
       "      <td>2000.000000</td>\n",
       "      <td>2000.000000</td>\n",
       "      <td>2000.000000</td>\n",
       "      <td>2000.000000</td>\n",
       "      <td>2000.000000</td>\n",
       "    </tr>\n",
       "    <tr>\n",
       "      <th>mean</th>\n",
       "      <td>90585.977000</td>\n",
       "      <td>573.946000</td>\n",
       "      <td>25308.503000</td>\n",
       "      <td>20.441000</td>\n",
       "      <td>56.680000</td>\n",
       "    </tr>\n",
       "    <tr>\n",
       "      <th>std</th>\n",
       "      <td>34487.874907</td>\n",
       "      <td>160.564945</td>\n",
       "      <td>14207.320147</td>\n",
       "      <td>11.777813</td>\n",
       "      <td>18.638033</td>\n",
       "    </tr>\n",
       "    <tr>\n",
       "      <th>min</th>\n",
       "      <td>30053.000000</td>\n",
       "      <td>300.000000</td>\n",
       "      <td>1022.000000</td>\n",
       "      <td>0.000000</td>\n",
       "      <td>10.000000</td>\n",
       "    </tr>\n",
       "    <tr>\n",
       "      <th>25%</th>\n",
       "      <td>61296.250000</td>\n",
       "      <td>433.000000</td>\n",
       "      <td>12748.750000</td>\n",
       "      <td>10.000000</td>\n",
       "      <td>45.000000</td>\n",
       "    </tr>\n",
       "    <tr>\n",
       "      <th>50%</th>\n",
       "      <td>90387.500000</td>\n",
       "      <td>576.000000</td>\n",
       "      <td>25661.500000</td>\n",
       "      <td>21.000000</td>\n",
       "      <td>55.000000</td>\n",
       "    </tr>\n",
       "    <tr>\n",
       "      <th>75%</th>\n",
       "      <td>120099.750000</td>\n",
       "      <td>715.000000</td>\n",
       "      <td>37380.500000</td>\n",
       "      <td>31.000000</td>\n",
       "      <td>70.000000</td>\n",
       "    </tr>\n",
       "    <tr>\n",
       "      <th>max</th>\n",
       "      <td>149964.000000</td>\n",
       "      <td>850.000000</td>\n",
       "      <td>49999.000000</td>\n",
       "      <td>40.000000</td>\n",
       "      <td>100.000000</td>\n",
       "    </tr>\n",
       "  </tbody>\n",
       "</table>\n",
       "</div>"
      ],
      "text/plain": [
       "              income  credit_score   loan_amount  years_employed       points\n",
       "count    2000.000000   2000.000000   2000.000000     2000.000000  2000.000000\n",
       "mean    90585.977000    573.946000  25308.503000       20.441000    56.680000\n",
       "std     34487.874907    160.564945  14207.320147       11.777813    18.638033\n",
       "min     30053.000000    300.000000   1022.000000        0.000000    10.000000\n",
       "25%     61296.250000    433.000000  12748.750000       10.000000    45.000000\n",
       "50%     90387.500000    576.000000  25661.500000       21.000000    55.000000\n",
       "75%    120099.750000    715.000000  37380.500000       31.000000    70.000000\n",
       "max    149964.000000    850.000000  49999.000000       40.000000   100.000000"
      ]
     },
     "execution_count": 18,
     "metadata": {},
     "output_type": "execute_result"
    }
   ],
   "source": [
    "df.describe()"
   ]
  },
  {
   "cell_type": "markdown",
   "id": "8f27d989",
   "metadata": {},
   "source": [
    "Table summary:\n",
    "From the table above count shows 2000 values confirming no missing data.\n",
    "There is a a quite large standard deviation in income and loan_amount suggesting a lot of variability.\n",
    "This shows the highest(max) and lowest(min) values for each variable."
   ]
  },
  {
   "cell_type": "markdown",
   "id": "56726f99",
   "metadata": {},
   "source": [
    "Files saved below in output folder"
   ]
  },
  {
   "cell_type": "code",
   "execution_count": 19,
   "id": "0ca09b92",
   "metadata": {},
   "outputs": [
    {
     "name": "stdout",
     "output_type": "stream",
     "text": [
      "[Errno 17] File exists: 'outputs/datasets/collection'\n"
     ]
    }
   ],
   "source": [
    "import os\n",
    "try:\n",
    "  os.makedirs(name='outputs/datasets/collection')\n",
    "except Exception as e:\n",
    "  print(e)\n",
    "\n",
    "df.to_csv(f\"outputs/datasets/collection/loan_approval.csv\",index=False)"
   ]
  },
  {
   "cell_type": "markdown",
   "id": "44e08720",
   "metadata": {},
   "source": [
    "# Conclusions and Next Steps\n",
    "\n",
    "This is a moderate to small size dataset with 2000 rows and 8 columns. There is no missing data or duplicates of the names. The numerical summary shows high levels variability across income and loan amount with relatively high standard deviations, suggesting a wide range of applicant financial profiles. This variability could influence model performance and will be explored further during data visualization and feature analysis.\n",
    "\n",
    "Next steps:\n",
    "Undertake Exploratory Data Analysis (EDA)\n",
    "Investigate patterns in the data, particularly correlations between features and target variable."
   ]
  }
 ],
 "metadata": {
  "kernelspec": {
   "display_name": "3.12.1",
   "language": "python",
   "name": "python3"
  },
  "language_info": {
   "codemirror_mode": {
    "name": "ipython",
    "version": 3
   },
   "file_extension": ".py",
   "mimetype": "text/x-python",
   "name": "python",
   "nbconvert_exporter": "python",
   "pygments_lexer": "ipython3",
   "version": "3.12.1"
  }
 },
 "nbformat": 4,
 "nbformat_minor": 5
}
