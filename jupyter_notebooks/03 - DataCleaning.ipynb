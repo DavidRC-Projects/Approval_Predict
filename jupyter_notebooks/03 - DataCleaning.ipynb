{
 "cells": [
  {
   "cell_type": "code",
   "execution_count": 1,
   "id": "fc68c5eb",
   "metadata": {},
   "outputs": [
    {
     "name": "stdout",
     "output_type": "stream",
     "text": [
      "Changed to project root directory\n"
     ]
    },
    {
     "data": {
      "text/plain": [
       "'/workspaces/Approval_Predict'"
      ]
     },
     "execution_count": 1,
     "metadata": {},
     "output_type": "execute_result"
    }
   ],
   "source": [
    "import os\n",
    "import sys\n",
    "\n",
    "from src.utility.project_setup import setup_project_path\n",
    "\n",
    "setup_project_path()\n"
   ]
  },
  {
   "cell_type": "markdown",
   "id": "fe0d5011",
   "metadata": {},
   "source": [
    "Load collected data"
   ]
  },
  {
   "cell_type": "code",
   "execution_count": 2,
   "id": "376e3839",
   "metadata": {},
   "outputs": [
    {
     "name": "stdout",
     "output_type": "stream",
     "text": [
      "No 'jupyter_notebooks' directory found the the current path\n"
     ]
    },
    {
     "data": {
      "text/html": [
       "<div>\n",
       "<style scoped>\n",
       "    .dataframe tbody tr th:only-of-type {\n",
       "        vertical-align: middle;\n",
       "    }\n",
       "\n",
       "    .dataframe tbody tr th {\n",
       "        vertical-align: top;\n",
       "    }\n",
       "\n",
       "    .dataframe thead th {\n",
       "        text-align: right;\n",
       "    }\n",
       "</style>\n",
       "<table border=\"1\" class=\"dataframe\">\n",
       "  <thead>\n",
       "    <tr style=\"text-align: right;\">\n",
       "      <th></th>\n",
       "      <th>income</th>\n",
       "      <th>credit_score</th>\n",
       "      <th>loan_amount</th>\n",
       "      <th>years_employed</th>\n",
       "      <th>points</th>\n",
       "      <th>loan_approved</th>\n",
       "    </tr>\n",
       "  </thead>\n",
       "  <tbody>\n",
       "    <tr>\n",
       "      <th>0</th>\n",
       "      <td>113810</td>\n",
       "      <td>389</td>\n",
       "      <td>39698</td>\n",
       "      <td>27</td>\n",
       "      <td>50.0</td>\n",
       "      <td>False</td>\n",
       "    </tr>\n",
       "    <tr>\n",
       "      <th>1</th>\n",
       "      <td>44592</td>\n",
       "      <td>729</td>\n",
       "      <td>15446</td>\n",
       "      <td>28</td>\n",
       "      <td>55.0</td>\n",
       "      <td>False</td>\n",
       "    </tr>\n",
       "    <tr>\n",
       "      <th>2</th>\n",
       "      <td>33278</td>\n",
       "      <td>584</td>\n",
       "      <td>11189</td>\n",
       "      <td>13</td>\n",
       "      <td>45.0</td>\n",
       "      <td>False</td>\n",
       "    </tr>\n",
       "    <tr>\n",
       "      <th>3</th>\n",
       "      <td>127196</td>\n",
       "      <td>344</td>\n",
       "      <td>48823</td>\n",
       "      <td>29</td>\n",
       "      <td>50.0</td>\n",
       "      <td>False</td>\n",
       "    </tr>\n",
       "    <tr>\n",
       "      <th>4</th>\n",
       "      <td>66048</td>\n",
       "      <td>496</td>\n",
       "      <td>47174</td>\n",
       "      <td>4</td>\n",
       "      <td>25.0</td>\n",
       "      <td>False</td>\n",
       "    </tr>\n",
       "  </tbody>\n",
       "</table>\n",
       "</div>"
      ],
      "text/plain": [
       "   income  credit_score  loan_amount  years_employed  points  loan_approved\n",
       "0  113810           389        39698              27    50.0          False\n",
       "1   44592           729        15446              28    55.0          False\n",
       "2   33278           584        11189              13    45.0          False\n",
       "3  127196           344        48823              29    50.0          False\n",
       "4   66048           496        47174               4    25.0          False"
      ]
     },
     "execution_count": 2,
     "metadata": {},
     "output_type": "execute_result"
    }
   ],
   "source": [
    "from pathlib import Path\n",
    "import pandas as pd\n",
    "\n",
    "root = setup_project_path()\n",
    "file_path = Path(root) / \"outputs\" / \"datasets\" / \"collection\" / \"loan_approval.csv\"\n",
    "\n",
    "if not file_path.exists():\n",
    "    raise FileNotFoundError(f\"Dataset not found at: {file_path}\")\n",
    "\n",
    "df = pd.read_csv(file_path).drop(['name', 'city'], axis=1)\n",
    "df.head(5)"
   ]
  },
  {
   "cell_type": "markdown",
   "id": "bee0e8e6",
   "metadata": {},
   "source": [
    "Data Exploration"
   ]
  },
  {
   "cell_type": "code",
   "execution_count": 3,
   "id": "4da47993",
   "metadata": {},
   "outputs": [
    {
     "data": {
      "text/plain": [
       "[]"
      ]
     },
     "execution_count": 3,
     "metadata": {},
     "output_type": "execute_result"
    }
   ],
   "source": [
    "vars_with_missing_data = df.columns[df.isna().sum() > 0].to_list()\n",
    "vars_with_missing_data"
   ]
  },
  {
   "cell_type": "markdown",
   "id": "cfe7f172",
   "metadata": {},
   "source": [
    "Generate a profiling report for columns with missing data"
   ]
  },
  {
   "cell_type": "code",
   "execution_count": 4,
   "id": "44a541b4",
   "metadata": {},
   "outputs": [
    {
     "name": "stdout",
     "output_type": "stream",
     "text": [
      "There are no variables with missing data\n"
     ]
    }
   ],
   "source": [
    "from ydata_profiling import ProfileReport\n",
    "if vars_with_missing_data:\n",
    "    profile = ProfileReport(df=df[vars_with_missing_data], minimal=True)\n",
    "    profile.to_notebook_iframe()\n",
    "else:\n",
    "    print(\"There are no variables with missing data\")"
   ]
  },
  {
   "cell_type": "markdown",
   "id": "f63ec0c4",
   "metadata": {},
   "source": [
    "Correlation and PPS Analysis"
   ]
  },
  {
   "cell_type": "code",
   "execution_count": 5,
   "id": "e283342f",
   "metadata": {},
   "outputs": [],
   "source": [
    "import numpy as np\n",
    "import matplotlib.pyplot as plt\n",
    "import seaborn as sns\n",
    "import ppscore as pps\n",
    "\n",
    "\n",
    "def DisplayCorrAndPPS(df_corr_pearson, df_corr_spearman, pps_matrix, CorrThreshold, PPS_Threshold,\n",
    "                      figsize=(20, 6), font_annot=8):\n",
    "\n",
    "    print(\"\\n\")\n",
    "    print(\"* Analyse how the target variable for your ML models are correlated with other variables (features and target)\")\n",
    "    print(\"* Analyse multi-colinearity, that is, how the features are correlated among themselves\")\n",
    "\n",
    "    # Create a figure with 3 subplots side by side\n",
    "    fig, axes = plt.subplots(1, 3, figsize=(24, 8))\n",
    "    \n",
    "    print(\"\\n\")\n",
    "    print(\"*** Correlation and PPS Heatmaps ***\")\n",
    "    \n",
    "    # Spearman Correlation\n",
    "    print(\"\\nSpearman Correlation - evaluates monotonic relationship\")\n",
    "    mask_spearman = np.zeros_like(df_corr_spearman, dtype=bool)\n",
    "    mask_spearman[np.triu_indices_from(mask_spearman)] = True\n",
    "    mask_spearman[abs(df_corr_spearman) < CorrThreshold] = True\n",
    "    \n",
    "    sns.heatmap(df_corr_spearman, annot=True, xticklabels=True, yticklabels=True,\n",
    "                mask=mask_spearman, cmap='viridis', annot_kws={\"size\": font_annot}, \n",
    "                ax=axes[0], linewidth=0.5)\n",
    "    axes[0].set_yticklabels(df_corr_spearman.columns, rotation=0)\n",
    "    axes[0].set_title('Spearman Correlation', fontsize=14, fontweight='bold')\n",
    "    \n",
    "    # Pearson Correlation\n",
    "    print(\"\\nPearson Correlation - evaluates linear relationship\")\n",
    "    mask_pearson = np.zeros_like(df_corr_pearson, dtype=bool)\n",
    "    mask_pearson[np.triu_indices_from(mask_pearson)] = True\n",
    "    mask_pearson[abs(df_corr_pearson) < CorrThreshold] = True\n",
    "    \n",
    "    sns.heatmap(df_corr_pearson, annot=True, xticklabels=True, yticklabels=True,\n",
    "                mask=mask_pearson, cmap='viridis', annot_kws={\"size\": font_annot}, \n",
    "                ax=axes[1], linewidth=0.5)\n",
    "    axes[1].set_yticklabels(df_corr_pearson.columns, rotation=0)\n",
    "    axes[1].set_title('Pearson Correlation', fontsize=14, fontweight='bold')\n",
    "    \n",
    "    # PPS\n",
    "    print(\"\\nPower Predictive Score - detects linear and non-linear relationships (0-1 scale)\")\n",
    "    mask_pps = np.zeros_like(pps_matrix, dtype=bool)\n",
    "    mask_pps[abs(pps_matrix) < PPS_Threshold] = True\n",
    "    \n",
    "    sns.heatmap(pps_matrix, annot=True, xticklabels=True, yticklabels=True,\n",
    "                mask=mask_pps, cmap='rocket_r', annot_kws={\"size\": font_annot},\n",
    "                linewidth=0.05, linecolor='grey', ax=axes[2])\n",
    "    axes[2].set_title('Predictive Power Score (PPS)', fontsize=14, fontweight='bold')\n",
    "    \n",
    "    plt.tight_layout()\n",
    "    plt.show()"
   ]
  },
  {
   "cell_type": "code",
   "execution_count": 7,
   "id": "97918de1",
   "metadata": {},
   "outputs": [
    {
     "ename": "NameError",
     "evalue": "name 'df_corr_pearson' is not defined",
     "output_type": "error",
     "traceback": [
      "\u001b[0;31m---------------------------------------------------------------------------\u001b[0m",
      "\u001b[0;31mNameError\u001b[0m                                 Traceback (most recent call last)",
      "Cell \u001b[0;32mIn[7], line 1\u001b[0m\n\u001b[0;32m----> 1\u001b[0m DisplayCorrAndPPS(df_corr_pearson \u001b[38;5;241m=\u001b[39m \u001b[43mdf_corr_pearson\u001b[49m,\n\u001b[1;32m      2\u001b[0m                   df_corr_spearman \u001b[38;5;241m=\u001b[39m df_corr_spearman, \n\u001b[1;32m      3\u001b[0m                   pps_matrix \u001b[38;5;241m=\u001b[39m pps_matrix,\n\u001b[1;32m      4\u001b[0m                   CorrThreshold \u001b[38;5;241m=\u001b[39m \u001b[38;5;241m0.4\u001b[39m, PPS_Threshold \u001b[38;5;241m=\u001b[39m\u001b[38;5;241m0.2\u001b[39m,\n\u001b[1;32m      5\u001b[0m                   figsize\u001b[38;5;241m=\u001b[39m(\u001b[38;5;241m12\u001b[39m,\u001b[38;5;241m10\u001b[39m), font_annot\u001b[38;5;241m=\u001b[39m\u001b[38;5;241m10\u001b[39m)\n",
      "\u001b[0;31mNameError\u001b[0m: name 'df_corr_pearson' is not defined"
     ]
    }
   ],
   "source": [
    "DisplayCorrAndPPS(df_corr_pearson = df_corr_pearson,\n",
    "                  df_corr_spearman = df_corr_spearman, \n",
    "                  pps_matrix = pps_matrix,\n",
    "                  CorrThreshold = 0.4, PPS_Threshold =0.2,\n",
    "                  figsize=(12,10), font_annot=10)"
   ]
  }
 ],
 "metadata": {
  "kernelspec": {
   "display_name": "3.12.1",
   "language": "python",
   "name": "python3"
  },
  "language_info": {
   "codemirror_mode": {
    "name": "ipython",
    "version": 3
   },
   "file_extension": ".py",
   "mimetype": "text/x-python",
   "name": "python",
   "nbconvert_exporter": "python",
   "pygments_lexer": "ipython3",
   "version": "3.12.1"
  }
 },
 "nbformat": 4,
 "nbformat_minor": 5
}
