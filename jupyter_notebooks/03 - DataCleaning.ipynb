{
 "cells": [
  {
   "cell_type": "code",
   "execution_count": 1,
   "id": "fc68c5eb",
   "metadata": {},
   "outputs": [
    {
     "name": "stdout",
     "output_type": "stream",
     "text": [
      "You set a new current directory\n"
     ]
    },
    {
     "data": {
      "text/plain": [
       "'/workspaces/Approval_Predict'"
      ]
     },
     "execution_count": 1,
     "metadata": {},
     "output_type": "execute_result"
    }
   ],
   "source": [
    "import os\n",
    "import numpy as np\n",
    "import matplotlib.pyplot as plt\n",
    "import seaborn as sns\n",
    "import ppscore as pps\n",
    "from pathlib import Path\n",
    "import pandas as pd\n",
    "from ydata_profiling import ProfileReport\n",
    "import warnings\n",
    "\n",
    "current_dir = os.getcwd()\n",
    "current_dir\n",
    "\n",
    "os.chdir(os.path.dirname(current_dir))\n",
    "print(\"You set a new current directory\")\n",
    "\n",
    "current_dir = os.getcwd()\n",
    "current_dir"
   ]
  },
  {
   "cell_type": "markdown",
   "id": "fe0d5011",
   "metadata": {},
   "source": [
    "Load collected data"
   ]
  },
  {
   "cell_type": "code",
   "execution_count": 2,
   "id": "376e3839",
   "metadata": {},
   "outputs": [
    {
     "data": {
      "text/html": [
       "<div>\n",
       "<style scoped>\n",
       "    .dataframe tbody tr th:only-of-type {\n",
       "        vertical-align: middle;\n",
       "    }\n",
       "\n",
       "    .dataframe tbody tr th {\n",
       "        vertical-align: top;\n",
       "    }\n",
       "\n",
       "    .dataframe thead th {\n",
       "        text-align: right;\n",
       "    }\n",
       "</style>\n",
       "<table border=\"1\" class=\"dataframe\">\n",
       "  <thead>\n",
       "    <tr style=\"text-align: right;\">\n",
       "      <th></th>\n",
       "      <th>income</th>\n",
       "      <th>credit_score</th>\n",
       "      <th>loan_amount</th>\n",
       "      <th>years_employed</th>\n",
       "      <th>points</th>\n",
       "      <th>loan_approved</th>\n",
       "    </tr>\n",
       "  </thead>\n",
       "  <tbody>\n",
       "    <tr>\n",
       "      <th>0</th>\n",
       "      <td>113810</td>\n",
       "      <td>389</td>\n",
       "      <td>39698</td>\n",
       "      <td>27</td>\n",
       "      <td>50.0</td>\n",
       "      <td>False</td>\n",
       "    </tr>\n",
       "    <tr>\n",
       "      <th>1</th>\n",
       "      <td>44592</td>\n",
       "      <td>729</td>\n",
       "      <td>15446</td>\n",
       "      <td>28</td>\n",
       "      <td>55.0</td>\n",
       "      <td>False</td>\n",
       "    </tr>\n",
       "    <tr>\n",
       "      <th>2</th>\n",
       "      <td>33278</td>\n",
       "      <td>584</td>\n",
       "      <td>11189</td>\n",
       "      <td>13</td>\n",
       "      <td>45.0</td>\n",
       "      <td>False</td>\n",
       "    </tr>\n",
       "    <tr>\n",
       "      <th>3</th>\n",
       "      <td>127196</td>\n",
       "      <td>344</td>\n",
       "      <td>48823</td>\n",
       "      <td>29</td>\n",
       "      <td>50.0</td>\n",
       "      <td>False</td>\n",
       "    </tr>\n",
       "    <tr>\n",
       "      <th>4</th>\n",
       "      <td>66048</td>\n",
       "      <td>496</td>\n",
       "      <td>47174</td>\n",
       "      <td>4</td>\n",
       "      <td>25.0</td>\n",
       "      <td>False</td>\n",
       "    </tr>\n",
       "  </tbody>\n",
       "</table>\n",
       "</div>"
      ],
      "text/plain": [
       "   income  credit_score  loan_amount  years_employed  points  loan_approved\n",
       "0  113810           389        39698              27    50.0          False\n",
       "1   44592           729        15446              28    55.0          False\n",
       "2   33278           584        11189              13    45.0          False\n",
       "3  127196           344        48823              29    50.0          False\n",
       "4   66048           496        47174               4    25.0          False"
      ]
     },
     "execution_count": 2,
     "metadata": {},
     "output_type": "execute_result"
    }
   ],
   "source": [
    "root = current_dir\n",
    "file_path = Path(root) / \"outputs\" / \"datasets\" / \"collection\" / \"loan_approval.csv\"\n",
    "\n",
    "if not file_path.exists():\n",
    "    raise FileNotFoundError(f\"Dataset not found at: {file_path}\")\n",
    "\n",
    "df = pd.read_csv(file_path).drop(['name', 'city'], axis=1)\n",
    "df.head(5)"
   ]
  },
  {
   "cell_type": "markdown",
   "id": "bee0e8e6",
   "metadata": {},
   "source": [
    "Data Exploration"
   ]
  },
  {
   "cell_type": "code",
   "execution_count": 3,
   "id": "4da47993",
   "metadata": {},
   "outputs": [
    {
     "data": {
      "text/plain": [
       "[]"
      ]
     },
     "execution_count": 3,
     "metadata": {},
     "output_type": "execute_result"
    }
   ],
   "source": [
    "vars_with_missing_data = df.columns[df.isna().sum() > 0].to_list()\n",
    "vars_with_missing_data"
   ]
  },
  {
   "cell_type": "markdown",
   "id": "cfe7f172",
   "metadata": {},
   "source": [
    "Generate a profiling report for columns with missing data"
   ]
  },
  {
   "cell_type": "code",
   "execution_count": 4,
   "id": "44a541b4",
   "metadata": {},
   "outputs": [
    {
     "name": "stdout",
     "output_type": "stream",
     "text": [
      "There are no variables with missing data\n"
     ]
    }
   ],
   "source": [
    "if vars_with_missing_data:\n",
    "    profile = ProfileReport(df=df[vars_with_missing_data], minimal=True)\n",
    "    profile.to_notebook_iframe()\n",
    "else:\n",
    "    print(\"There are no variables with missing data\")"
   ]
  },
  {
   "cell_type": "markdown",
   "id": "aa2d0436",
   "metadata": {},
   "source": [
    "Add feature of loan to income"
   ]
  },
  {
   "cell_type": "code",
   "execution_count": 5,
   "id": "419b164a",
   "metadata": {},
   "outputs": [
    {
     "data": {
      "text/html": [
       "<div>\n",
       "<style scoped>\n",
       "    .dataframe tbody tr th:only-of-type {\n",
       "        vertical-align: middle;\n",
       "    }\n",
       "\n",
       "    .dataframe tbody tr th {\n",
       "        vertical-align: top;\n",
       "    }\n",
       "\n",
       "    .dataframe thead th {\n",
       "        text-align: right;\n",
       "    }\n",
       "</style>\n",
       "<table border=\"1\" class=\"dataframe\">\n",
       "  <thead>\n",
       "    <tr style=\"text-align: right;\">\n",
       "      <th></th>\n",
       "      <th>income</th>\n",
       "      <th>credit_score</th>\n",
       "      <th>loan_amount</th>\n",
       "      <th>years_employed</th>\n",
       "      <th>points</th>\n",
       "      <th>loan_approved</th>\n",
       "      <th>loan_to_income</th>\n",
       "    </tr>\n",
       "  </thead>\n",
       "  <tbody>\n",
       "    <tr>\n",
       "      <th>0</th>\n",
       "      <td>113810</td>\n",
       "      <td>389</td>\n",
       "      <td>39698</td>\n",
       "      <td>27</td>\n",
       "      <td>50.0</td>\n",
       "      <td>False</td>\n",
       "      <td>0.348809</td>\n",
       "    </tr>\n",
       "    <tr>\n",
       "      <th>1</th>\n",
       "      <td>44592</td>\n",
       "      <td>729</td>\n",
       "      <td>15446</td>\n",
       "      <td>28</td>\n",
       "      <td>55.0</td>\n",
       "      <td>False</td>\n",
       "      <td>0.346385</td>\n",
       "    </tr>\n",
       "    <tr>\n",
       "      <th>2</th>\n",
       "      <td>33278</td>\n",
       "      <td>584</td>\n",
       "      <td>11189</td>\n",
       "      <td>13</td>\n",
       "      <td>45.0</td>\n",
       "      <td>False</td>\n",
       "      <td>0.336228</td>\n",
       "    </tr>\n",
       "  </tbody>\n",
       "</table>\n",
       "</div>"
      ],
      "text/plain": [
       "   income  credit_score  loan_amount  years_employed  points  loan_approved  \\\n",
       "0  113810           389        39698              27    50.0          False   \n",
       "1   44592           729        15446              28    55.0          False   \n",
       "2   33278           584        11189              13    45.0          False   \n",
       "\n",
       "   loan_to_income  \n",
       "0        0.348809  \n",
       "1        0.346385  \n",
       "2        0.336228  "
      ]
     },
     "execution_count": 5,
     "metadata": {},
     "output_type": "execute_result"
    }
   ],
   "source": [
    "df['loan_to_income'] = df['loan_amount'] / df['income']\n",
    "df.head(3)"
   ]
  },
  {
   "cell_type": "markdown",
   "id": "f63ec0c4",
   "metadata": {},
   "source": [
    "Correlation and PPS Analysis"
   ]
  },
  {
   "cell_type": "code",
   "execution_count": 6,
   "id": "2edba67c",
   "metadata": {},
   "outputs": [
    {
     "data": {
      "image/png": "[encoded data removed]",
      "text/plain": [
       "<Figure size 2200x700 with 6 Axes>"
      ]
     },
     "metadata": {},
     "output_type": "display_data"
    }
   ],
   "source": [
    "warnings.filterwarnings(\"ignore\", category=FutureWarning, module=\"ppscore\")\n",
    "warnings.filterwarnings('ignore')\n",
    "\n",
    "\n",
    "def calculate_corr_and_pps(df):\n",
    "    pearson = df.corr(method=\"pearson\", numeric_only=True)\n",
    "    spearman = df.corr(method=\"spearman\", numeric_only=True)\n",
    "\n",
    "    pps_matrix = pps.matrix(df).pivot(index='y', columns='x', values='ppscore')\n",
    "\n",
    "    return pearson, spearman, pps_matrix\n",
    "\n",
    "\n",
    "def plot_all_heatmaps(pearson, spearman, pps_matrix,\n",
    "                      corr_thresh=0.4, pps_thresh=0.3,\n",
    "                      figsize=(22,7), annot_size=10):\n",
    "\n",
    "    fig, axes = plt.subplots(1, 3, figsize=figsize)\n",
    "\n",
    "    # Pearson\n",
    "    sns.heatmap(pearson.where(abs(pearson) >= corr_thresh),\n",
    "                annot=True, cmap=\"viridis\",\n",
    "                square=True,\n",
    "                annot_kws={\"size\": annot_size},\n",
    "                ax=axes[0])\n",
    "    axes[0].set_title(\"Pearson Correlation\")\n",
    "\n",
    "    # Spearman\n",
    "    sns.heatmap(spearman.where(abs(spearman) >= corr_thresh),\n",
    "                annot=True, cmap=\"viridis\",\n",
    "                square=True,\n",
    "                annot_kws={\"size\": annot_size},\n",
    "                ax=axes[1])\n",
    "    axes[1].set_title(\"Spearman Correlation\")\n",
    "\n",
    "    # PPS (asymmetric)\n",
    "    sns.heatmap(pps_matrix.where(pps_matrix >= pps_thresh),\n",
    "                annot=True, cmap=\"rocket_r\",\n",
    "                square=True,\n",
    "                annot_kws={\"size\": annot_size},\n",
    "                ax=axes[2])\n",
    "    axes[2].set_title(\"Predictive Power Score\")\n",
    "\n",
    "    plt.tight_layout()\n",
    "    plt.show()\n",
    "\n",
    "pearson, spearman, pps_matrix = calculate_corr_and_pps(df)\n",
    "plot_all_heatmaps(pearson, spearman, pps_matrix,\n",
    "                  corr_thresh=0.5, pps_thresh=0.3,\n",
    "                  figsize=(22,7), annot_size=10)\n"
   ]
  },
  {
   "cell_type": "markdown",
   "id": "410ee260",
   "metadata": {},
   "source": [
    "From the heat maps above:\n",
    "\n",
    "Points have the strongest relationship with loan_approved and indicates points directly influence approval decisions.\n",
    "\n",
    "Credit score also strongly related to loan approval, thus a high credit score strongly improves approval chances.\n",
    "\n",
    "Conclusion: Loan approval decisions are primarily driven by applicant financial credibility, not affordability alone.\n",
    "Credit_score and points capture most of the approval rule logic."
   ]
  },
  {
   "cell_type": "code",
   "execution_count": 9,
   "id": "8ee385b8",
   "metadata": {},
   "outputs": [
    {
     "data": {
      "text/html": [
       "<div>\n",
       "<style scoped>\n",
       "    .dataframe tbody tr th:only-of-type {\n",
       "        vertical-align: middle;\n",
       "    }\n",
       "\n",
       "    .dataframe tbody tr th {\n",
       "        vertical-align: top;\n",
       "    }\n",
       "\n",
       "    .dataframe thead th {\n",
       "        text-align: right;\n",
       "    }\n",
       "</style>\n",
       "<table border=\"1\" class=\"dataframe\">\n",
       "  <thead>\n",
       "    <tr style=\"text-align: right;\">\n",
       "      <th>x</th>\n",
       "      <th>credit_score</th>\n",
       "      <th>income</th>\n",
       "      <th>loan_amount</th>\n",
       "      <th>loan_approved</th>\n",
       "      <th>loan_to_income</th>\n",
       "      <th>points</th>\n",
       "      <th>years_employed</th>\n",
       "    </tr>\n",
       "  </thead>\n",
       "  <tbody>\n",
       "    <tr>\n",
       "      <th>count</th>\n",
       "      <td>7.000000</td>\n",
       "      <td>7.000000</td>\n",
       "      <td>7.000000</td>\n",
       "      <td>7.000000</td>\n",
       "      <td>7.000000</td>\n",
       "      <td>7.000000</td>\n",
       "      <td>7.000000</td>\n",
       "    </tr>\n",
       "    <tr>\n",
       "      <th>mean</th>\n",
       "      <td>0.276429</td>\n",
       "      <td>0.160143</td>\n",
       "      <td>0.174714</td>\n",
       "      <td>0.258714</td>\n",
       "      <td>0.214571</td>\n",
       "      <td>0.417143</td>\n",
       "      <td>0.144857</td>\n",
       "    </tr>\n",
       "    <tr>\n",
       "      <th>std</th>\n",
       "      <td>0.402294</td>\n",
       "      <td>0.373077</td>\n",
       "      <td>0.368296</td>\n",
       "      <td>0.370420</td>\n",
       "      <td>0.371564</td>\n",
       "      <td>0.418325</td>\n",
       "      <td>0.377119</td>\n",
       "    </tr>\n",
       "    <tr>\n",
       "      <th>min</th>\n",
       "      <td>0.000000</td>\n",
       "      <td>0.000000</td>\n",
       "      <td>0.000000</td>\n",
       "      <td>0.000000</td>\n",
       "      <td>0.000000</td>\n",
       "      <td>0.031000</td>\n",
       "      <td>0.000000</td>\n",
       "    </tr>\n",
       "    <tr>\n",
       "      <th>25%</th>\n",
       "      <td>0.000000</td>\n",
       "      <td>0.000000</td>\n",
       "      <td>0.000000</td>\n",
       "      <td>0.007500</td>\n",
       "      <td>0.000000</td>\n",
       "      <td>0.120000</td>\n",
       "      <td>0.000000</td>\n",
       "    </tr>\n",
       "    <tr>\n",
       "      <th>50%</th>\n",
       "      <td>0.000000</td>\n",
       "      <td>0.000000</td>\n",
       "      <td>0.000000</td>\n",
       "      <td>0.035000</td>\n",
       "      <td>0.000000</td>\n",
       "      <td>0.220000</td>\n",
       "      <td>0.000000</td>\n",
       "    </tr>\n",
       "    <tr>\n",
       "      <th>75%</th>\n",
       "      <td>0.467500</td>\n",
       "      <td>0.060500</td>\n",
       "      <td>0.111500</td>\n",
       "      <td>0.380500</td>\n",
       "      <td>0.251000</td>\n",
       "      <td>0.714500</td>\n",
       "      <td>0.007000</td>\n",
       "    </tr>\n",
       "    <tr>\n",
       "      <th>max</th>\n",
       "      <td>1.000000</td>\n",
       "      <td>1.000000</td>\n",
       "      <td>1.000000</td>\n",
       "      <td>1.000000</td>\n",
       "      <td>1.000000</td>\n",
       "      <td>1.000000</td>\n",
       "      <td>1.000000</td>\n",
       "    </tr>\n",
       "  </tbody>\n",
       "</table>\n",
       "</div>"
      ],
      "text/plain": [
       "x      credit_score    income  loan_amount  loan_approved  loan_to_income  \\\n",
       "count      7.000000  7.000000     7.000000       7.000000        7.000000   \n",
       "mean       0.276429  0.160143     0.174714       0.258714        0.214571   \n",
       "std        0.402294  0.373077     0.368296       0.370420        0.371564   \n",
       "min        0.000000  0.000000     0.000000       0.000000        0.000000   \n",
       "25%        0.000000  0.000000     0.000000       0.007500        0.000000   \n",
       "50%        0.000000  0.000000     0.000000       0.035000        0.000000   \n",
       "75%        0.467500  0.060500     0.111500       0.380500        0.251000   \n",
       "max        1.000000  1.000000     1.000000       1.000000        1.000000   \n",
       "\n",
       "x        points  years_employed  \n",
       "count  7.000000        7.000000  \n",
       "mean   0.417143        0.144857  \n",
       "std    0.418325        0.377119  \n",
       "min    0.031000        0.000000  \n",
       "25%    0.120000        0.000000  \n",
       "50%    0.220000        0.000000  \n",
       "75%    0.714500        0.007000  \n",
       "max    1.000000        1.000000  "
      ]
     },
     "metadata": {},
     "output_type": "display_data"
    }
   ],
   "source": [
    "display(pps_matrix.describe())"
   ]
  },
  {
   "cell_type": "markdown",
   "id": "e1821fdf",
   "metadata": {},
   "source": [
    "The index of the taregt variable was renamed to make it more user friendly."
   ]
  },
  {
   "cell_type": "code",
   "execution_count": 16,
   "id": "620c7b9c",
   "metadata": {},
   "outputs": [
    {
     "name": "stdout",
     "output_type": "stream",
     "text": [
      "loan_approved\n",
      "not approved    0.56\n",
      "approved        0.44\n",
      "Name: proportion, dtype: float64\n"
     ]
    }
   ],
   "source": [
    "print(y.value_counts(normalize=True).rename({0: \"not approved\", 1: \"approved\"}).round(3))\n",
    "\n"
   ]
  },
  {
   "cell_type": "markdown",
   "id": "6e1f53d1",
   "metadata": {},
   "source": [
    "## Split Train and Test Set"
   ]
  },
  {
   "cell_type": "code",
   "execution_count": 31,
   "id": "f07a02d1",
   "metadata": {},
   "outputs": [
    {
     "name": "stdout",
     "output_type": "stream",
     "text": [
      "X_train shape: (1600, 6) \n",
      "X_test shape: (400, 6)\n"
     ]
    }
   ],
   "source": [
    "\n",
    "from sklearn.model_selection import train_test_split\n",
    "\n",
    "X = df.drop('loan_approved', axis=1)\n",
    "y = df['loan_approved']\n",
    "\n",
    "X_train, X_test, y_train, y_test = train_test_split(\n",
    "                                        X,\n",
    "                                        y,\n",
    "                                        test_size=0.2,\n",
    "                                        random_state=42)\n",
    "\n",
    "print(f\"X_train shape: {X_train.shape} \\nX_test shape: {X_test.shape}\")"
   ]
  },
  {
   "cell_type": "markdown",
   "id": "d0ddc36f",
   "metadata": {},
   "source": [
    "## Push files to Repo"
   ]
  },
  {
   "cell_type": "code",
   "execution_count": 32,
   "id": "6b6bc47c",
   "metadata": {},
   "outputs": [],
   "source": [
    "import os\n",
    "try:\n",
    "  os.makedirs(name='outputs/datasets/cleaned')\n",
    "except Exception as e:\n",
    "  print(e)"
   ]
  },
  {
   "cell_type": "code",
   "execution_count": 33,
   "id": "249e7b6f",
   "metadata": {},
   "outputs": [],
   "source": [
    "X_train.to_csv(\"outputs/datasets/cleaned/TrainSetCleaned.csv\", index=False)"
   ]
  },
  {
   "cell_type": "code",
   "execution_count": 34,
   "id": "ac24d3cc",
   "metadata": {},
   "outputs": [],
   "source": [
    "X_test.to_csv(\"outputs/datasets/cleaned/TestSetCleaned.csv\", index=False)"
   ]
  }
 ],
 "metadata": {
  "kernelspec": {
   "display_name": "3.12.1",
   "language": "python",
   "name": "python3"
  },
  "language_info": {
   "codemirror_mode": {
    "name": "ipython",
    "version": 3
   },
   "file_extension": ".py",
   "mimetype": "text/x-python",
   "name": "python",
   "nbconvert_exporter": "python",
   "pygments_lexer": "ipython3",
   "version": "3.12.1"
  }
 },
 "nbformat": 4,
 "nbformat_minor": 5
}
