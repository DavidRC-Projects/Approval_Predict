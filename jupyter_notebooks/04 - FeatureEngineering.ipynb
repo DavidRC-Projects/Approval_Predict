{
 "cells": [
  {
   "cell_type": "markdown",
   "id": "c8deb97d",
   "metadata": {},
   "source": [
    "# Feature Engineering"
   ]
  },
  {
   "cell_type": "markdown",
   "id": "fbc04d91",
   "metadata": {},
   "source": [
    "\n",
    "\n",
    "Prepare features for two machine learning tasks:\n",
    "1. Regression model\n",
    "2. Classification model\n",
    "3. Compare and select the best machine learning path\n",
    "\n",
    "## Inputs\n",
    "\n",
    "* outputs/datasets/cleaned/TrainSetCleaned.csv\n",
    "* outputs/datasets/cleaned/TestSetCleaned.csv\n",
    "\n",
    "## Outputs\n",
    "\n",
    "* generate a list with variables to engineer"
   ]
  },
  {
   "cell_type": "markdown",
   "id": "cddb8bc4",
   "metadata": {},
   "source": [
    "## Change working directory"
   ]
  },
  {
   "cell_type": "code",
   "execution_count": 1,
   "id": "3d75c053",
   "metadata": {},
   "outputs": [
    {
     "data": {
      "text/plain": [
       "'/workspaces/Approval_Predict/jupyter_notebooks'"
      ]
     },
     "execution_count": 1,
     "metadata": {},
     "output_type": "execute_result"
    }
   ],
   "source": [
    "import os\n",
    "\n",
    "\n",
    "current_dir = os.getcwd()\n",
    "current_dir"
   ]
  },
  {
   "cell_type": "code",
   "execution_count": 2,
   "id": "ac62aaea",
   "metadata": {},
   "outputs": [
    {
     "name": "stdout",
     "output_type": "stream",
     "text": [
      "You set a new current directory\n"
     ]
    }
   ],
   "source": [
    "os.chdir(os.path.dirname(current_dir))\n",
    "print(\"You set a new current directory\")"
   ]
  },
  {
   "cell_type": "code",
   "execution_count": 3,
   "id": "2b404d0d",
   "metadata": {},
   "outputs": [
    {
     "data": {
      "text/plain": [
       "'/workspaces/Approval_Predict'"
      ]
     },
     "execution_count": 3,
     "metadata": {},
     "output_type": "execute_result"
    }
   ],
   "source": [
    "current_dir = os.getcwd()\n",
    "current_dir"
   ]
  },
  {
   "cell_type": "markdown",
   "id": "f4566aa4",
   "metadata": {},
   "source": [
    "## Load Data\n",
    "Load the train and test sets from the cleaned outputs folder."
   ]
  },
  {
   "cell_type": "code",
   "execution_count": 4,
   "id": "2bb20e92",
   "metadata": {},
   "outputs": [
    {
     "data": {
      "text/html": [
       "<div>\n",
       "<style scoped>\n",
       "    .dataframe tbody tr th:only-of-type {\n",
       "        vertical-align: middle;\n",
       "    }\n",
       "\n",
       "    .dataframe tbody tr th {\n",
       "        vertical-align: top;\n",
       "    }\n",
       "\n",
       "    .dataframe thead th {\n",
       "        text-align: right;\n",
       "    }\n",
       "</style>\n",
       "<table border=\"1\" class=\"dataframe\">\n",
       "  <thead>\n",
       "    <tr style=\"text-align: right;\">\n",
       "      <th></th>\n",
       "      <th>income</th>\n",
       "      <th>credit_score</th>\n",
       "      <th>loan_amount</th>\n",
       "      <th>years_employed</th>\n",
       "      <th>points</th>\n",
       "      <th>loan_approved</th>\n",
       "      <th>loan_to_income</th>\n",
       "    </tr>\n",
       "  </thead>\n",
       "  <tbody>\n",
       "    <tr>\n",
       "      <th>0</th>\n",
       "      <td>49973</td>\n",
       "      <td>464</td>\n",
       "      <td>22397</td>\n",
       "      <td>24</td>\n",
       "      <td>25.0</td>\n",
       "      <td>False</td>\n",
       "      <td>0.448182</td>\n",
       "    </tr>\n",
       "    <tr>\n",
       "      <th>1</th>\n",
       "      <td>70306</td>\n",
       "      <td>508</td>\n",
       "      <td>22644</td>\n",
       "      <td>5</td>\n",
       "      <td>35.0</td>\n",
       "      <td>False</td>\n",
       "      <td>0.322078</td>\n",
       "    </tr>\n",
       "    <tr>\n",
       "      <th>2</th>\n",
       "      <td>88446</td>\n",
       "      <td>798</td>\n",
       "      <td>17896</td>\n",
       "      <td>21</td>\n",
       "      <td>85.0</td>\n",
       "      <td>True</td>\n",
       "      <td>0.202338</td>\n",
       "    </tr>\n",
       "  </tbody>\n",
       "</table>\n",
       "</div>"
      ],
      "text/plain": [
       "   income  credit_score  loan_amount  years_employed  points  loan_approved  \\\n",
       "0   49973           464        22397              24    25.0          False   \n",
       "1   70306           508        22644               5    35.0          False   \n",
       "2   88446           798        17896              21    85.0           True   \n",
       "\n",
       "   loan_to_income  \n",
       "0        0.448182  \n",
       "1        0.322078  \n",
       "2        0.202338  "
      ]
     },
     "execution_count": 4,
     "metadata": {},
     "output_type": "execute_result"
    }
   ],
   "source": [
    "import pandas as pd\n",
    "\n",
    "\n",
    "train_set_df = pd.read_csv(\"outputs/datasets/cleaned/TrainSetCleaned.csv\")\n",
    "train_set_df.head(3)"
   ]
  },
  {
   "cell_type": "code",
   "execution_count": 5,
   "id": "a5f3d969",
   "metadata": {},
   "outputs": [
    {
     "data": {
      "text/html": [
       "<div>\n",
       "<style scoped>\n",
       "    .dataframe tbody tr th:only-of-type {\n",
       "        vertical-align: middle;\n",
       "    }\n",
       "\n",
       "    .dataframe tbody tr th {\n",
       "        vertical-align: top;\n",
       "    }\n",
       "\n",
       "    .dataframe thead th {\n",
       "        text-align: right;\n",
       "    }\n",
       "</style>\n",
       "<table border=\"1\" class=\"dataframe\">\n",
       "  <thead>\n",
       "    <tr style=\"text-align: right;\">\n",
       "      <th></th>\n",
       "      <th>income</th>\n",
       "      <th>credit_score</th>\n",
       "      <th>loan_amount</th>\n",
       "      <th>years_employed</th>\n",
       "      <th>points</th>\n",
       "      <th>loan_approved</th>\n",
       "      <th>loan_to_income</th>\n",
       "    </tr>\n",
       "  </thead>\n",
       "  <tbody>\n",
       "    <tr>\n",
       "      <th>0</th>\n",
       "      <td>130290</td>\n",
       "      <td>447</td>\n",
       "      <td>16496</td>\n",
       "      <td>10</td>\n",
       "      <td>55.0</td>\n",
       "      <td>False</td>\n",
       "      <td>0.126610</td>\n",
       "    </tr>\n",
       "    <tr>\n",
       "      <th>1</th>\n",
       "      <td>54050</td>\n",
       "      <td>808</td>\n",
       "      <td>10217</td>\n",
       "      <td>21</td>\n",
       "      <td>85.0</td>\n",
       "      <td>True</td>\n",
       "      <td>0.189029</td>\n",
       "    </tr>\n",
       "    <tr>\n",
       "      <th>2</th>\n",
       "      <td>105529</td>\n",
       "      <td>698</td>\n",
       "      <td>32169</td>\n",
       "      <td>35</td>\n",
       "      <td>75.0</td>\n",
       "      <td>True</td>\n",
       "      <td>0.304836</td>\n",
       "    </tr>\n",
       "  </tbody>\n",
       "</table>\n",
       "</div>"
      ],
      "text/plain": [
       "   income  credit_score  loan_amount  years_employed  points  loan_approved  \\\n",
       "0  130290           447        16496              10    55.0          False   \n",
       "1   54050           808        10217              21    85.0           True   \n",
       "2  105529           698        32169              35    75.0           True   \n",
       "\n",
       "   loan_to_income  \n",
       "0        0.126610  \n",
       "1        0.189029  \n",
       "2        0.304836  "
      ]
     },
     "execution_count": 5,
     "metadata": {},
     "output_type": "execute_result"
    }
   ],
   "source": [
    "test_set_df = pd.read_csv(\"outputs/datasets/cleaned/TestSetCleaned.csv\")\n",
    "test_set_df.head(3)"
   ]
  }
 ],
 "metadata": {
  "kernelspec": {
   "display_name": "3.12.1",
   "language": "python",
   "name": "python3"
  },
  "language_info": {
   "codemirror_mode": {
    "name": "ipython",
    "version": 3
   },
   "file_extension": ".py",
   "mimetype": "text/x-python",
   "name": "python",
   "nbconvert_exporter": "python",
   "pygments_lexer": "ipython3",
   "version": "3.12.1"
  }
 },
 "nbformat": 4,
 "nbformat_minor": 5
}
